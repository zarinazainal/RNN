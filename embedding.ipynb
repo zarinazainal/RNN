{
 "cells": [
  {
   "cell_type": "code",
   "execution_count": 4,
   "id": "55acd024",
   "metadata": {},
   "outputs": [
    {
     "name": "stdout",
     "output_type": "stream",
     "text": [
      "Requirement already satisfied: tensorflow in c:\\users\\user\\documents\\prestij\\nlp\\rnn\\env2\\lib\\site-packages (2.15.0)\n",
      "Requirement already satisfied: tensorflow-intel==2.15.0 in c:\\users\\user\\documents\\prestij\\nlp\\rnn\\env2\\lib\\site-packages (from tensorflow) (2.15.0)\n",
      "Requirement already satisfied: grpcio<2.0,>=1.24.3 in c:\\users\\user\\documents\\prestij\\nlp\\rnn\\env2\\lib\\site-packages (from tensorflow-intel==2.15.0->tensorflow) (1.73.1)\n",
      "Requirement already satisfied: h5py>=2.9.0 in c:\\users\\user\\documents\\prestij\\nlp\\rnn\\env2\\lib\\site-packages (from tensorflow-intel==2.15.0->tensorflow) (3.14.0)\n",
      "Requirement already satisfied: typing-extensions>=3.6.6 in c:\\users\\user\\documents\\prestij\\nlp\\rnn\\env2\\lib\\site-packages (from tensorflow-intel==2.15.0->tensorflow) (4.14.1)\n",
      "Requirement already satisfied: tensorflow-estimator<2.16,>=2.15.0 in c:\\users\\user\\documents\\prestij\\nlp\\rnn\\env2\\lib\\site-packages (from tensorflow-intel==2.15.0->tensorflow) (2.15.0)\n",
      "Requirement already satisfied: setuptools in c:\\users\\user\\documents\\prestij\\nlp\\rnn\\env2\\lib\\site-packages (from tensorflow-intel==2.15.0->tensorflow) (65.5.0)\n",
      "Requirement already satisfied: termcolor>=1.1.0 in c:\\users\\user\\documents\\prestij\\nlp\\rnn\\env2\\lib\\site-packages (from tensorflow-intel==2.15.0->tensorflow) (3.1.0)\n",
      "Requirement already satisfied: ml-dtypes~=0.2.0 in c:\\users\\user\\documents\\prestij\\nlp\\rnn\\env2\\lib\\site-packages (from tensorflow-intel==2.15.0->tensorflow) (0.2.0)\n",
      "Requirement already satisfied: gast!=0.5.0,!=0.5.1,!=0.5.2,>=0.2.1 in c:\\users\\user\\documents\\prestij\\nlp\\rnn\\env2\\lib\\site-packages (from tensorflow-intel==2.15.0->tensorflow) (0.6.0)\n",
      "Requirement already satisfied: libclang>=13.0.0 in c:\\users\\user\\documents\\prestij\\nlp\\rnn\\env2\\lib\\site-packages (from tensorflow-intel==2.15.0->tensorflow) (18.1.1)\n",
      "Requirement already satisfied: tensorflow-io-gcs-filesystem>=0.23.1 in c:\\users\\user\\documents\\prestij\\nlp\\rnn\\env2\\lib\\site-packages (from tensorflow-intel==2.15.0->tensorflow) (0.31.0)\n",
      "Requirement already satisfied: astunparse>=1.6.0 in c:\\users\\user\\documents\\prestij\\nlp\\rnn\\env2\\lib\\site-packages (from tensorflow-intel==2.15.0->tensorflow) (1.6.3)\n",
      "Requirement already satisfied: six>=1.12.0 in c:\\users\\user\\documents\\prestij\\nlp\\rnn\\env2\\lib\\site-packages (from tensorflow-intel==2.15.0->tensorflow) (1.17.0)\n",
      "Requirement already satisfied: wrapt<1.15,>=1.11.0 in c:\\users\\user\\documents\\prestij\\nlp\\rnn\\env2\\lib\\site-packages (from tensorflow-intel==2.15.0->tensorflow) (1.14.1)\n",
      "Requirement already satisfied: opt-einsum>=2.3.2 in c:\\users\\user\\documents\\prestij\\nlp\\rnn\\env2\\lib\\site-packages (from tensorflow-intel==2.15.0->tensorflow) (3.4.0)\n",
      "Requirement already satisfied: tensorboard<2.16,>=2.15 in c:\\users\\user\\documents\\prestij\\nlp\\rnn\\env2\\lib\\site-packages (from tensorflow-intel==2.15.0->tensorflow) (2.15.2)\n",
      "Requirement already satisfied: protobuf!=4.21.0,!=4.21.1,!=4.21.2,!=4.21.3,!=4.21.4,!=4.21.5,<5.0.0dev,>=3.20.3 in c:\\users\\user\\documents\\prestij\\nlp\\rnn\\env2\\lib\\site-packages (from tensorflow-intel==2.15.0->tensorflow) (4.25.8)\n",
      "Requirement already satisfied: google-pasta>=0.1.1 in c:\\users\\user\\documents\\prestij\\nlp\\rnn\\env2\\lib\\site-packages (from tensorflow-intel==2.15.0->tensorflow) (0.2.0)\n",
      "Requirement already satisfied: keras<2.16,>=2.15.0 in c:\\users\\user\\documents\\prestij\\nlp\\rnn\\env2\\lib\\site-packages (from tensorflow-intel==2.15.0->tensorflow) (2.15.0)\n",
      "Requirement already satisfied: flatbuffers>=23.5.26 in c:\\users\\user\\documents\\prestij\\nlp\\rnn\\env2\\lib\\site-packages (from tensorflow-intel==2.15.0->tensorflow) (25.2.10)\n",
      "Requirement already satisfied: numpy<2.0.0,>=1.23.5 in c:\\users\\user\\documents\\prestij\\nlp\\rnn\\env2\\lib\\site-packages (from tensorflow-intel==2.15.0->tensorflow) (1.26.4)\n",
      "Requirement already satisfied: absl-py>=1.0.0 in c:\\users\\user\\documents\\prestij\\nlp\\rnn\\env2\\lib\\site-packages (from tensorflow-intel==2.15.0->tensorflow) (2.3.1)\n",
      "Requirement already satisfied: packaging in c:\\users\\user\\documents\\prestij\\nlp\\rnn\\env2\\lib\\site-packages (from tensorflow-intel==2.15.0->tensorflow) (25.0)\n",
      "Requirement already satisfied: wheel<1.0,>=0.23.0 in c:\\users\\user\\documents\\prestij\\nlp\\rnn\\env2\\lib\\site-packages (from astunparse>=1.6.0->tensorflow-intel==2.15.0->tensorflow) (0.45.1)\n",
      "Requirement already satisfied: google-auth<3,>=1.6.3 in c:\\users\\user\\documents\\prestij\\nlp\\rnn\\env2\\lib\\site-packages (from tensorboard<2.16,>=2.15->tensorflow-intel==2.15.0->tensorflow) (2.40.3)\n",
      "Requirement already satisfied: markdown>=2.6.8 in c:\\users\\user\\documents\\prestij\\nlp\\rnn\\env2\\lib\\site-packages (from tensorboard<2.16,>=2.15->tensorflow-intel==2.15.0->tensorflow) (3.8.2)\n",
      "Requirement already satisfied: requests<3,>=2.21.0 in c:\\users\\user\\documents\\prestij\\nlp\\rnn\\env2\\lib\\site-packages (from tensorboard<2.16,>=2.15->tensorflow-intel==2.15.0->tensorflow) (2.32.4)\n",
      "Requirement already satisfied: google-auth-oauthlib<2,>=0.5 in c:\\users\\user\\documents\\prestij\\nlp\\rnn\\env2\\lib\\site-packages (from tensorboard<2.16,>=2.15->tensorflow-intel==2.15.0->tensorflow) (1.2.2)\n",
      "Requirement already satisfied: werkzeug>=1.0.1 in c:\\users\\user\\documents\\prestij\\nlp\\rnn\\env2\\lib\\site-packages (from tensorboard<2.16,>=2.15->tensorflow-intel==2.15.0->tensorflow) (3.1.3)\n",
      "Requirement already satisfied: tensorboard-data-server<0.8.0,>=0.7.0 in c:\\users\\user\\documents\\prestij\\nlp\\rnn\\env2\\lib\\site-packages (from tensorboard<2.16,>=2.15->tensorflow-intel==2.15.0->tensorflow) (0.7.2)\n",
      "Requirement already satisfied: pyasn1-modules>=0.2.1 in c:\\users\\user\\documents\\prestij\\nlp\\rnn\\env2\\lib\\site-packages (from google-auth<3,>=1.6.3->tensorboard<2.16,>=2.15->tensorflow-intel==2.15.0->tensorflow) (0.4.2)\n",
      "Requirement already satisfied: rsa<5,>=3.1.4 in c:\\users\\user\\documents\\prestij\\nlp\\rnn\\env2\\lib\\site-packages (from google-auth<3,>=1.6.3->tensorboard<2.16,>=2.15->tensorflow-intel==2.15.0->tensorflow) (4.9.1)\n",
      "Requirement already satisfied: cachetools<6.0,>=2.0.0 in c:\\users\\user\\documents\\prestij\\nlp\\rnn\\env2\\lib\\site-packages (from google-auth<3,>=1.6.3->tensorboard<2.16,>=2.15->tensorflow-intel==2.15.0->tensorflow) (5.5.2)\n",
      "Requirement already satisfied: requests-oauthlib>=0.7.0 in c:\\users\\user\\documents\\prestij\\nlp\\rnn\\env2\\lib\\site-packages (from google-auth-oauthlib<2,>=0.5->tensorboard<2.16,>=2.15->tensorflow-intel==2.15.0->tensorflow) (2.0.0)\n",
      "Requirement already satisfied: charset_normalizer<4,>=2 in c:\\users\\user\\documents\\prestij\\nlp\\rnn\\env2\\lib\\site-packages (from requests<3,>=2.21.0->tensorboard<2.16,>=2.15->tensorflow-intel==2.15.0->tensorflow) (3.4.2)\n",
      "Requirement already satisfied: idna<4,>=2.5 in c:\\users\\user\\documents\\prestij\\nlp\\rnn\\env2\\lib\\site-packages (from requests<3,>=2.21.0->tensorboard<2.16,>=2.15->tensorflow-intel==2.15.0->tensorflow) (3.10)\n",
      "Requirement already satisfied: certifi>=2017.4.17 in c:\\users\\user\\documents\\prestij\\nlp\\rnn\\env2\\lib\\site-packages (from requests<3,>=2.21.0->tensorboard<2.16,>=2.15->tensorflow-intel==2.15.0->tensorflow) (2025.7.14)\n",
      "Requirement already satisfied: urllib3<3,>=1.21.1 in c:\\users\\user\\documents\\prestij\\nlp\\rnn\\env2\\lib\\site-packages (from requests<3,>=2.21.0->tensorboard<2.16,>=2.15->tensorflow-intel==2.15.0->tensorflow) (2.5.0)\n",
      "Requirement already satisfied: MarkupSafe>=2.1.1 in c:\\users\\user\\documents\\prestij\\nlp\\rnn\\env2\\lib\\site-packages (from werkzeug>=1.0.1->tensorboard<2.16,>=2.15->tensorflow-intel==2.15.0->tensorflow) (3.0.2)\n",
      "Requirement already satisfied: pyasn1<0.7.0,>=0.6.1 in c:\\users\\user\\documents\\prestij\\nlp\\rnn\\env2\\lib\\site-packages (from pyasn1-modules>=0.2.1->google-auth<3,>=1.6.3->tensorboard<2.16,>=2.15->tensorflow-intel==2.15.0->tensorflow) (0.6.1)\n",
      "Requirement already satisfied: oauthlib>=3.0.0 in c:\\users\\user\\documents\\prestij\\nlp\\rnn\\env2\\lib\\site-packages (from requests-oauthlib>=0.7.0->google-auth-oauthlib<2,>=0.5->tensorboard<2.16,>=2.15->tensorflow-intel==2.15.0->tensorflow) (3.3.1)\n",
      "Note: you may need to restart the kernel to use updated packages.\n"
     ]
    },
    {
     "name": "stderr",
     "output_type": "stream",
     "text": [
      "\n",
      "[notice] A new release of pip is available: 23.0.1 -> 25.1.1\n",
      "[notice] To update, run: python.exe -m pip install --upgrade pip\n"
     ]
    }
   ],
   "source": [
    "%pip install tensorflow\n"
   ]
  },
  {
   "cell_type": "code",
   "execution_count": 6,
   "id": "11eb0d4a",
   "metadata": {},
   "outputs": [],
   "source": [
    "from tensorflow.keras.preprocessing.text import one_hot"
   ]
  },
  {
   "cell_type": "code",
   "execution_count": 37,
   "id": "999c4479",
   "metadata": {},
   "outputs": [],
   "source": [
    "sent=[  'the glass of milk',\n",
    "     'the glass of juice',\n",
    "     'the cup of tea',\n",
    "    'I am a good boy',\n",
    "     'I am a good developer',\n",
    "     'understand the meaning of words',\n",
    "     'your videos are good',]"
   ]
  },
  {
   "cell_type": "code",
   "execution_count": 38,
   "id": "40949e41",
   "metadata": {},
   "outputs": [
    {
     "data": {
      "text/plain": [
       "[[858, 6956, 2196, 5280],\n",
       " [858, 6956, 2196, 5600],\n",
       " [858, 6917, 2196, 7068],\n",
       " [3532, 3611, 8002, 8527, 1027],\n",
       " [3532, 3611, 8002, 8527, 7544],\n",
       " [2635, 858, 6285, 2196, 4394],\n",
       " [9875, 9761, 5886, 8527]]"
      ]
     },
     "execution_count": 38,
     "metadata": {},
     "output_type": "execute_result"
    }
   ],
   "source": [
    "voc_size = 10000  # Vocabulary size\n",
    "### One Hot Representation\n",
    "one_hot_repr = [one_hot(words, voc_size) for words in sent]\n",
    "one_hot_repr"
   ]
  },
  {
   "cell_type": "code",
   "execution_count": 39,
   "id": "4aac4dd7",
   "metadata": {},
   "outputs": [],
   "source": [
    "## word Embedding Representation\n",
    "from tensorflow.keras.layers import Embedding\n",
    "#from tensorflow.keras.preprocessing.sequence import pad_sequences\n",
    "from tensorflow.keras.utils import pad_sequences\n",
    "from tensorflow.keras.models import Sequential\n"
   ]
  },
  {
   "cell_type": "code",
   "execution_count": 40,
   "id": "c3adfd11",
   "metadata": {},
   "outputs": [],
   "source": [
    "import numpy as np"
   ]
  },
  {
   "cell_type": "code",
   "execution_count": 41,
   "id": "bd4b8480",
   "metadata": {},
   "outputs": [
    {
     "name": "stdout",
     "output_type": "stream",
     "text": [
      "[[   0    0    0    0  858 6956 2196 5280]\n",
      " [   0    0    0    0  858 6956 2196 5600]\n",
      " [   0    0    0    0  858 6917 2196 7068]\n",
      " [   0    0    0 3532 3611 8002 8527 1027]\n",
      " [   0    0    0 3532 3611 8002 8527 7544]\n",
      " [   0    0    0 2635  858 6285 2196 4394]\n",
      " [   0    0    0    0 9875 9761 5886 8527]]\n"
     ]
    }
   ],
   "source": [
    "sent_length = 8\n",
    "embedded_docs=pad_sequences(one_hot_repr, padding='pre', maxlen=sent_length)\n",
    "print(embedded_docs)"
   ]
  },
  {
   "cell_type": "code",
   "execution_count": 42,
   "id": "e8ec9fd1",
   "metadata": {},
   "outputs": [],
   "source": [
    "## Feature representation\n",
    "dim=10"
   ]
  },
  {
   "cell_type": "code",
   "execution_count": 43,
   "id": "5f10ad70",
   "metadata": {},
   "outputs": [],
   "source": [
    "model=Sequential()\n",
    "model.add(Embedding(voc_size, dim, input_length=sent_length))\n",
    "model.compile('adam', 'mse')"
   ]
  },
  {
   "cell_type": "code",
   "execution_count": 44,
   "id": "f70a0be0",
   "metadata": {},
   "outputs": [
    {
     "name": "stdout",
     "output_type": "stream",
     "text": [
      "Model: \"sequential_1\"\n",
      "_________________________________________________________________\n",
      " Layer (type)                Output Shape              Param #   \n",
      "=================================================================\n",
      " embedding_1 (Embedding)     (None, 8, 10)             100000    \n",
      "                                                                 \n",
      "=================================================================\n",
      "Total params: 100000 (390.62 KB)\n",
      "Trainable params: 100000 (390.62 KB)\n",
      "Non-trainable params: 0 (0.00 Byte)\n",
      "_________________________________________________________________\n"
     ]
    }
   ],
   "source": [
    "model.summary()"
   ]
  },
  {
   "cell_type": "code",
   "execution_count": 45,
   "id": "274cf535",
   "metadata": {},
   "outputs": [
    {
     "name": "stdout",
     "output_type": "stream",
     "text": [
      "1/1 [==============================] - 0s 94ms/step\n"
     ]
    },
    {
     "data": {
      "text/plain": [
       "array([[[ 0.01503868,  0.04434091,  0.02540716, -0.03190613,\n",
       "          0.00091271, -0.03842136, -0.02296656,  0.0256413 ,\n",
       "          0.02981205,  0.03806074],\n",
       "        [ 0.01503868,  0.04434091,  0.02540716, -0.03190613,\n",
       "          0.00091271, -0.03842136, -0.02296656,  0.0256413 ,\n",
       "          0.02981205,  0.03806074],\n",
       "        [ 0.01503868,  0.04434091,  0.02540716, -0.03190613,\n",
       "          0.00091271, -0.03842136, -0.02296656,  0.0256413 ,\n",
       "          0.02981205,  0.03806074],\n",
       "        [ 0.01503868,  0.04434091,  0.02540716, -0.03190613,\n",
       "          0.00091271, -0.03842136, -0.02296656,  0.0256413 ,\n",
       "          0.02981205,  0.03806074],\n",
       "        [-0.00166132,  0.01216171,  0.0265176 ,  0.01072343,\n",
       "          0.02579821, -0.00379194, -0.00603002,  0.04957509,\n",
       "          0.01404155, -0.00964554],\n",
       "        [ 0.01899481,  0.02185552, -0.01761267, -0.01546614,\n",
       "         -0.00145888, -0.03757588, -0.02155705,  0.04260572,\n",
       "          0.0035944 ,  0.03662214],\n",
       "        [-0.04335275, -0.03811715, -0.04812285, -0.02637368,\n",
       "         -0.01486026,  0.01271758,  0.01239468, -0.0332697 ,\n",
       "          0.03816909, -0.01083551],\n",
       "        [-0.00171312, -0.01330423,  0.0134037 ,  0.01330029,\n",
       "          0.02499927, -0.02481601,  0.0060798 , -0.003128  ,\n",
       "          0.01991731,  0.04384917]],\n",
       "\n",
       "       [[ 0.01503868,  0.04434091,  0.02540716, -0.03190613,\n",
       "          0.00091271, -0.03842136, -0.02296656,  0.0256413 ,\n",
       "          0.02981205,  0.03806074],\n",
       "        [ 0.01503868,  0.04434091,  0.02540716, -0.03190613,\n",
       "          0.00091271, -0.03842136, -0.02296656,  0.0256413 ,\n",
       "          0.02981205,  0.03806074],\n",
       "        [ 0.01503868,  0.04434091,  0.02540716, -0.03190613,\n",
       "          0.00091271, -0.03842136, -0.02296656,  0.0256413 ,\n",
       "          0.02981205,  0.03806074],\n",
       "        [ 0.01503868,  0.04434091,  0.02540716, -0.03190613,\n",
       "          0.00091271, -0.03842136, -0.02296656,  0.0256413 ,\n",
       "          0.02981205,  0.03806074],\n",
       "        [-0.00166132,  0.01216171,  0.0265176 ,  0.01072343,\n",
       "          0.02579821, -0.00379194, -0.00603002,  0.04957509,\n",
       "          0.01404155, -0.00964554],\n",
       "        [ 0.01899481,  0.02185552, -0.01761267, -0.01546614,\n",
       "         -0.00145888, -0.03757588, -0.02155705,  0.04260572,\n",
       "          0.0035944 ,  0.03662214],\n",
       "        [-0.04335275, -0.03811715, -0.04812285, -0.02637368,\n",
       "         -0.01486026,  0.01271758,  0.01239468, -0.0332697 ,\n",
       "          0.03816909, -0.01083551],\n",
       "        [-0.01788568, -0.04361251,  0.0296631 , -0.04868535,\n",
       "         -0.04372463,  0.02690036, -0.0235365 , -0.03576739,\n",
       "         -0.02005705, -0.01695874]],\n",
       "\n",
       "       [[ 0.01503868,  0.04434091,  0.02540716, -0.03190613,\n",
       "          0.00091271, -0.03842136, -0.02296656,  0.0256413 ,\n",
       "          0.02981205,  0.03806074],\n",
       "        [ 0.01503868,  0.04434091,  0.02540716, -0.03190613,\n",
       "          0.00091271, -0.03842136, -0.02296656,  0.0256413 ,\n",
       "          0.02981205,  0.03806074],\n",
       "        [ 0.01503868,  0.04434091,  0.02540716, -0.03190613,\n",
       "          0.00091271, -0.03842136, -0.02296656,  0.0256413 ,\n",
       "          0.02981205,  0.03806074],\n",
       "        [ 0.01503868,  0.04434091,  0.02540716, -0.03190613,\n",
       "          0.00091271, -0.03842136, -0.02296656,  0.0256413 ,\n",
       "          0.02981205,  0.03806074],\n",
       "        [-0.00166132,  0.01216171,  0.0265176 ,  0.01072343,\n",
       "          0.02579821, -0.00379194, -0.00603002,  0.04957509,\n",
       "          0.01404155, -0.00964554],\n",
       "        [ 0.04975237,  0.02470319,  0.02870891,  0.03159975,\n",
       "          0.00226282,  0.02378314, -0.04126773,  0.04332374,\n",
       "          0.03557939, -0.00108825],\n",
       "        [-0.04335275, -0.03811715, -0.04812285, -0.02637368,\n",
       "         -0.01486026,  0.01271758,  0.01239468, -0.0332697 ,\n",
       "          0.03816909, -0.01083551],\n",
       "        [-0.03649933,  0.0370752 ,  0.04191393,  0.03981522,\n",
       "          0.04259339, -0.02978276,  0.01102237,  0.0347929 ,\n",
       "         -0.01871393,  0.02541416]],\n",
       "\n",
       "       [[ 0.01503868,  0.04434091,  0.02540716, -0.03190613,\n",
       "          0.00091271, -0.03842136, -0.02296656,  0.0256413 ,\n",
       "          0.02981205,  0.03806074],\n",
       "        [ 0.01503868,  0.04434091,  0.02540716, -0.03190613,\n",
       "          0.00091271, -0.03842136, -0.02296656,  0.0256413 ,\n",
       "          0.02981205,  0.03806074],\n",
       "        [ 0.01503868,  0.04434091,  0.02540716, -0.03190613,\n",
       "          0.00091271, -0.03842136, -0.02296656,  0.0256413 ,\n",
       "          0.02981205,  0.03806074],\n",
       "        [-0.04729419, -0.03110654, -0.00705642,  0.03838669,\n",
       "          0.04166215,  0.0399001 ,  0.01760549, -0.03104973,\n",
       "          0.03829003,  0.0457303 ],\n",
       "        [ 0.02246547,  0.03009833,  0.02822957,  0.04454503,\n",
       "          0.02745011, -0.00675856,  0.00634972, -0.02257367,\n",
       "          0.0166843 ,  0.04836607],\n",
       "        [ 0.01453802, -0.02071737,  0.04499621,  0.00490254,\n",
       "          0.04795232,  0.04516112,  0.03965158,  0.02065777,\n",
       "         -0.03124638,  0.01327068],\n",
       "        [ 0.04594043, -0.04911457,  0.02997159, -0.0348685 ,\n",
       "          0.0028533 ,  0.01791864,  0.02661237, -0.0190883 ,\n",
       "          0.03302683, -0.02853147],\n",
       "        [-0.04478095,  0.04815335,  0.03414849,  0.02238857,\n",
       "          0.03127689,  0.02090473,  0.01378599, -0.01317459,\n",
       "         -0.00441306,  0.04720664]],\n",
       "\n",
       "       [[ 0.01503868,  0.04434091,  0.02540716, -0.03190613,\n",
       "          0.00091271, -0.03842136, -0.02296656,  0.0256413 ,\n",
       "          0.02981205,  0.03806074],\n",
       "        [ 0.01503868,  0.04434091,  0.02540716, -0.03190613,\n",
       "          0.00091271, -0.03842136, -0.02296656,  0.0256413 ,\n",
       "          0.02981205,  0.03806074],\n",
       "        [ 0.01503868,  0.04434091,  0.02540716, -0.03190613,\n",
       "          0.00091271, -0.03842136, -0.02296656,  0.0256413 ,\n",
       "          0.02981205,  0.03806074],\n",
       "        [-0.04729419, -0.03110654, -0.00705642,  0.03838669,\n",
       "          0.04166215,  0.0399001 ,  0.01760549, -0.03104973,\n",
       "          0.03829003,  0.0457303 ],\n",
       "        [ 0.02246547,  0.03009833,  0.02822957,  0.04454503,\n",
       "          0.02745011, -0.00675856,  0.00634972, -0.02257367,\n",
       "          0.0166843 ,  0.04836607],\n",
       "        [ 0.01453802, -0.02071737,  0.04499621,  0.00490254,\n",
       "          0.04795232,  0.04516112,  0.03965158,  0.02065777,\n",
       "         -0.03124638,  0.01327068],\n",
       "        [ 0.04594043, -0.04911457,  0.02997159, -0.0348685 ,\n",
       "          0.0028533 ,  0.01791864,  0.02661237, -0.0190883 ,\n",
       "          0.03302683, -0.02853147],\n",
       "        [-0.04870991, -0.04988668, -0.00741767,  0.01143406,\n",
       "          0.00947757,  0.0106957 ,  0.02873507,  0.012194  ,\n",
       "          0.00412165,  0.04887513]],\n",
       "\n",
       "       [[ 0.01503868,  0.04434091,  0.02540716, -0.03190613,\n",
       "          0.00091271, -0.03842136, -0.02296656,  0.0256413 ,\n",
       "          0.02981205,  0.03806074],\n",
       "        [ 0.01503868,  0.04434091,  0.02540716, -0.03190613,\n",
       "          0.00091271, -0.03842136, -0.02296656,  0.0256413 ,\n",
       "          0.02981205,  0.03806074],\n",
       "        [ 0.01503868,  0.04434091,  0.02540716, -0.03190613,\n",
       "          0.00091271, -0.03842136, -0.02296656,  0.0256413 ,\n",
       "          0.02981205,  0.03806074],\n",
       "        [ 0.01084472,  0.00774469,  0.01905335,  0.03915005,\n",
       "         -0.03249742,  0.03883194,  0.0208411 , -0.0445721 ,\n",
       "         -0.02433457,  0.03425531],\n",
       "        [-0.00166132,  0.01216171,  0.0265176 ,  0.01072343,\n",
       "          0.02579821, -0.00379194, -0.00603002,  0.04957509,\n",
       "          0.01404155, -0.00964554],\n",
       "        [ 0.02321959,  0.04800764, -0.0383078 ,  0.04792664,\n",
       "          0.01219118, -0.01953988, -0.03765198, -0.01885175,\n",
       "          0.04653561,  0.04059508],\n",
       "        [-0.04335275, -0.03811715, -0.04812285, -0.02637368,\n",
       "         -0.01486026,  0.01271758,  0.01239468, -0.0332697 ,\n",
       "          0.03816909, -0.01083551],\n",
       "        [ 0.03128794,  0.00487045,  0.04439647, -0.03654895,\n",
       "         -0.02760797, -0.03554078,  0.01654411, -0.02413264,\n",
       "          0.02565021, -0.02195336]],\n",
       "\n",
       "       [[ 0.01503868,  0.04434091,  0.02540716, -0.03190613,\n",
       "          0.00091271, -0.03842136, -0.02296656,  0.0256413 ,\n",
       "          0.02981205,  0.03806074],\n",
       "        [ 0.01503868,  0.04434091,  0.02540716, -0.03190613,\n",
       "          0.00091271, -0.03842136, -0.02296656,  0.0256413 ,\n",
       "          0.02981205,  0.03806074],\n",
       "        [ 0.01503868,  0.04434091,  0.02540716, -0.03190613,\n",
       "          0.00091271, -0.03842136, -0.02296656,  0.0256413 ,\n",
       "          0.02981205,  0.03806074],\n",
       "        [ 0.01503868,  0.04434091,  0.02540716, -0.03190613,\n",
       "          0.00091271, -0.03842136, -0.02296656,  0.0256413 ,\n",
       "          0.02981205,  0.03806074],\n",
       "        [ 0.04501824,  0.04429373,  0.02070018, -0.03947479,\n",
       "          0.00825711, -0.01149727,  0.00991881,  0.04065311,\n",
       "         -0.03338491,  0.02859059],\n",
       "        [ 0.00975667, -0.02169421,  0.01811929, -0.0137069 ,\n",
       "          0.00433966,  0.02078699,  0.03521797, -0.02052195,\n",
       "          0.01283233, -0.00830179],\n",
       "        [ 0.04212611,  0.04939239,  0.02400919,  0.0131163 ,\n",
       "          0.00755759,  0.04402555,  0.0382296 ,  0.03557548,\n",
       "          0.02408925, -0.02600719],\n",
       "        [ 0.04594043, -0.04911457,  0.02997159, -0.0348685 ,\n",
       "          0.0028533 ,  0.01791864,  0.02661237, -0.0190883 ,\n",
       "          0.03302683, -0.02853147]]], dtype=float32)"
      ]
     },
     "execution_count": 45,
     "metadata": {},
     "output_type": "execute_result"
    }
   ],
   "source": [
    "model.predict(embedded_docs)"
   ]
  }
 ],
 "metadata": {
  "kernelspec": {
   "display_name": "env2",
   "language": "python",
   "name": "python3"
  },
  "language_info": {
   "codemirror_mode": {
    "name": "ipython",
    "version": 3
   },
   "file_extension": ".py",
   "mimetype": "text/x-python",
   "name": "python",
   "nbconvert_exporter": "python",
   "pygments_lexer": "ipython3",
   "version": "3.10.11"
  }
 },
 "nbformat": 4,
 "nbformat_minor": 5
}
